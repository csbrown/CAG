{
 "cells": [
  {
   "cell_type": "code",
   "execution_count": null,
   "metadata": {
    "collapsed": false
   },
   "outputs": [],
   "source": [
    "import pandas as pd\n",
    "%pylab inline"
   ]
  },
  {
   "cell_type": "code",
   "execution_count": null,
   "metadata": {
    "collapsed": false
   },
   "outputs": [],
   "source": [
    "# CHANGE THIS FILE NAME TO WHAT YOURS IS ACTUALLY CALLED\n",
    "filename = 'fake_savannah_data.csv' \n",
    "col_names = ['pH', 'dissolved_oxygen']\n",
    "\n",
    "df = pd.read_csv(filename, names=col_names)"
   ]
  },
  {
   "cell_type": "markdown",
   "metadata": {},
   "source": [
    "# Let's look at a snapshot of the data"
   ]
  },
  {
   "cell_type": "code",
   "execution_count": null,
   "metadata": {
    "collapsed": false
   },
   "outputs": [],
   "source": [
    "# You can change the number here to see a different number of rows\n",
    "df.head(10)"
   ]
  },
  {
   "cell_type": "markdown",
   "metadata": {},
   "source": [
    "# I also want to see information about the data as a whole\n",
    "\n",
    "What is the average? Standard deviation? Minimum? Maximum?"
   ]
  },
  {
   "cell_type": "code",
   "execution_count": null,
   "metadata": {
    "collapsed": false
   },
   "outputs": [],
   "source": [
    "df.describe()"
   ]
  },
  {
   "cell_type": "markdown",
   "metadata": {},
   "source": [
    "# How do you think this data should be visualized?\n",
    "Our data was collected over time, specifically in 30 minute intervals and pH and dissolved oxygen are both continuous values.\n",
    "\n",
    "This data doesn't contain the times though, so where can we get that information?\n",
    "\n",
    "Do we want to look at the data values all together or graphed by time?\n",
    "\n",
    "## What questions are we trying to answer with these graphs?"
   ]
  },
  {
   "cell_type": "code",
   "execution_count": null,
   "metadata": {
    "collapsed": false
   },
   "outputs": [],
   "source": [
    "# Let's look at a single column at a time and look at some of the plots available\n",
    "\n",
    "fig, ax = plt.subplots(1, 1, figsize=(14, 6))\n",
    "\n",
    "col = 'pH'\n",
    "# col = 'dissolved_oxygen'\n",
    "\n",
    "_ = df[col].value_counts(sort=False).plot(kind='pie', ax=ax)\n",
    "# _ = df[col].plot(kind='hist', ax=ax)\n",
    "# _ = df[col].plot(kind='line', ax=ax, linewidth=4)"
   ]
  },
  {
   "cell_type": "markdown",
   "metadata": {},
   "source": [
    "# Which type of graph was the best and why?\n",
    "\n",
    "Let's make these graphs better!"
   ]
  },
  {
   "cell_type": "code",
   "execution_count": null,
   "metadata": {
    "collapsed": false
   },
   "outputs": [],
   "source": [
    "col = 'dissolved_oxygen'\n",
    "\n",
    "fig, ax = plt.subplots(1, 1, figsize=(14, 6))\n",
    "df.plot(y=col, ax=ax, linewidth=4, title='CHANGE THIS')\n",
    "ax.set_xlabel('WHAT IS THIS?')\n",
    "ax.set_ylabel('WHAT\"S THE UNIT?')"
   ]
  },
  {
   "cell_type": "code",
   "execution_count": null,
   "metadata": {
    "collapsed": true
   },
   "outputs": [],
   "source": []
  }
 ],
 "metadata": {
  "kernelspec": {
   "display_name": "Python 2",
   "language": "python",
   "name": "python2"
  },
  "language_info": {
   "codemirror_mode": {
    "name": "ipython",
    "version": 2
   },
   "file_extension": ".py",
   "mimetype": "text/x-python",
   "name": "python",
   "nbconvert_exporter": "python",
   "pygments_lexer": "ipython2",
   "version": "2.7.11"
  }
 },
 "nbformat": 4,
 "nbformat_minor": 0
}
